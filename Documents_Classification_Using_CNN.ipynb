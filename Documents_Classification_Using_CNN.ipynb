{
  "cells": [
    {
      "cell_type": "markdown",
      "source": [
        "Proposing the structure of a convolutional neural network, to identify the type of images of documents, the proposed structure of the convolutional neural network includes dividing the image of the document into four main regions and passing those regions to the convolutional neural network as a sequence of single images, and the goal of this methodology is the ability to facilitate the work of The convolutional neural network is able to extract the basic characteristics included in each of the four regions, and then use the GlobalAveragePooling1D layer in order to reach the general characteristics that distinguish the document, and thus the ability of the neural network to easily find the general characteristics that characterize each type of document.\n",
        "\n",
        "We know that the type of document is determined according to many specifications, such as the design of the document, the header and footer, the body of the document and how the writing is formatted within the document, all of these factors help in the process of identifying the type of document.\n",
        "\n",
        "Thus, we divided into the head of the document, the bottom of the document, the body of the document and it was divided into two regions (the right body and the left body).\n",
        "Using the TimeDistributed layer, we are able to pass the images to the neural network as a set of four sub-images, where the properties are extracted from each part and then the common general properties are extracted.\n",
        "\n",
        "the References:\n",
        "Adam W. Harley, A. U. (2015). Evaluation of Deep Convolutional Nets for Document Image Classification and Retrieval. Toronto, Ontario: Ryerson University. [link study](https://arxiv.org/pdf/1502.07058v1.pdf)\n",
        "\n",
        "The study, which was my main reference, includes the same process of dividing the document into four sections, but with a difference in how to collect the common features. PCA & Conca was used in the study, while it was used in the GlobalAveragePooling1D code.\n",
        "\n",
        "Another difference is the study used multiple convolutional neural structures for each part extracted from the images of the document, while in my notebook, one convolutional neural network was used, and the network input was considered to be 4 parts representing one complete image."
      ],
      "metadata": {
        "id": "TgHn1xIz4JFS"
      }
    },
    {
      "cell_type": "code",
      "execution_count": 1,
      "metadata": {
        "colab": {
          "base_uri": "https://localhost:8080/"
        },
        "id": "IsU6rJEeDApn",
        "outputId": "3b2577eb-95b2-4b2b-8b69-b36dc52e9d19"
      },
      "outputs": [
        {
          "output_type": "stream",
          "name": "stdout",
          "text": [
            "Looking in indexes: https://pypi.org/simple, https://us-python.pkg.dev/colab-wheels/public/simple/\n",
            "Collecting opendatasets\n",
            "  Downloading opendatasets-0.1.22-py3-none-any.whl (15 kB)\n",
            "Requirement already satisfied: kaggle in /usr/local/lib/python3.7/dist-packages (from opendatasets) (1.5.12)\n",
            "Requirement already satisfied: click in /usr/local/lib/python3.7/dist-packages (from opendatasets) (7.1.2)\n",
            "Requirement already satisfied: tqdm in /usr/local/lib/python3.7/dist-packages (from opendatasets) (4.64.0)\n",
            "Requirement already satisfied: python-dateutil in /usr/local/lib/python3.7/dist-packages (from kaggle->opendatasets) (2.8.2)\n",
            "Requirement already satisfied: requests in /usr/local/lib/python3.7/dist-packages (from kaggle->opendatasets) (2.23.0)\n",
            "Requirement already satisfied: python-slugify in /usr/local/lib/python3.7/dist-packages (from kaggle->opendatasets) (6.1.2)\n",
            "Requirement already satisfied: urllib3 in /usr/local/lib/python3.7/dist-packages (from kaggle->opendatasets) (1.24.3)\n",
            "Requirement already satisfied: six>=1.10 in /usr/local/lib/python3.7/dist-packages (from kaggle->opendatasets) (1.15.0)\n",
            "Requirement already satisfied: certifi in /usr/local/lib/python3.7/dist-packages (from kaggle->opendatasets) (2022.6.15)\n",
            "Requirement already satisfied: text-unidecode>=1.3 in /usr/local/lib/python3.7/dist-packages (from python-slugify->kaggle->opendatasets) (1.3)\n",
            "Requirement already satisfied: idna<3,>=2.5 in /usr/local/lib/python3.7/dist-packages (from requests->kaggle->opendatasets) (2.10)\n",
            "Requirement already satisfied: chardet<4,>=3.0.2 in /usr/local/lib/python3.7/dist-packages (from requests->kaggle->opendatasets) (3.0.4)\n",
            "Installing collected packages: opendatasets\n",
            "Successfully installed opendatasets-0.1.22\n"
          ]
        }
      ],
      "source": [
        "!pip install opendatasets"
      ]
    },
    {
      "cell_type": "code",
      "execution_count": 2,
      "metadata": {
        "colab": {
          "base_uri": "https://localhost:8080/"
        },
        "id": "cMxQGp7HeFIJ",
        "outputId": "50568d34-2fa2-4738-8b6a-4cc7a1652aff"
      },
      "outputs": [
        {
          "output_type": "stream",
          "name": "stdout",
          "text": [
            "Please provide your Kaggle credentials to download this dataset. Learn more: http://bit.ly/kaggle-creds\n",
            "Your Kaggle username: kaledhoshme\n",
            "Your Kaggle Key: ··········\n",
            "Downloading the-rvlcdip-dataset-test.zip to ./the-rvlcdip-dataset-test\n"
          ]
        },
        {
          "output_type": "stream",
          "name": "stderr",
          "text": [
            "100%|██████████| 3.62G/3.62G [01:29<00:00, 43.4MB/s]\n"
          ]
        },
        {
          "output_type": "stream",
          "name": "stdout",
          "text": [
            "\n"
          ]
        }
      ],
      "source": [
        "import opendatasets as op\n",
        "op.download(\"https://www.kaggle.com/datasets/pdavpoojan/the-rvlcdip-dataset-test\")"
      ]
    },
    {
      "cell_type": "code",
      "execution_count": 3,
      "metadata": {
        "id": "PmtTj2bnf_bA"
      },
      "outputs": [],
      "source": [
        "import pandas as pd\n",
        "import numpy as np\n",
        "import tensorflow as tf\n",
        "import string\n",
        "import nltk\n",
        "import pathlib\n",
        "import os\n",
        "import cv2\n",
        "import matplotlib.pyplot as plt\n",
        "from tensorflow.keras.utils import to_categorical\n",
        "from tensorflow.keras.metrics import TruePositives, FalsePositives, TrueNegatives, FalseNegatives, BinaryAccuracy, Precision, Recall, AUC"
      ]
    },
    {
      "cell_type": "code",
      "execution_count": 4,
      "metadata": {
        "id": "FLj0D5R74Kn8"
      },
      "outputs": [],
      "source": [
        "import shutil\n",
        "shutil.rmtree(\"the-rvlcdip-dataset-test/test/scientific_publication\")"
      ]
    },
    {
      "cell_type": "code",
      "execution_count": 5,
      "metadata": {
        "id": "p8fuxWxveWMJ"
      },
      "outputs": [],
      "source": [
        "datasetFolder = \"the-rvlcdip-dataset-test/test/\""
      ]
    },
    {
      "cell_type": "code",
      "execution_count": 6,
      "metadata": {
        "id": "9ZlsdYtaehwz"
      },
      "outputs": [],
      "source": [
        "train = pathlib.Path(os.path.join(datasetFolder))"
      ]
    },
    {
      "cell_type": "code",
      "execution_count": 42,
      "metadata": {
        "id": "Ykdehp_7e_Mp"
      },
      "outputs": [],
      "source": [
        "def get_images_labels(images, label):\n",
        "  arr = []\n",
        "  labels = []\n",
        "  for i in images:\n",
        "    img = cv2.imread(os.path.join(i))\n",
        "    img = cv2.cvtColor(img, cv2.COLOR_BGR2GRAY)\n",
        "    img = cv2.resize(img, (120, 120))\n",
        "    img1 = img[0:30, 0:120]/255\n",
        "    img2 = img[30:90, 0:60]/255\n",
        "    img3 = img[30:90, 60:120]/255\n",
        "    img4 = img[90:120, 0:120]/255\n",
        "    img = np.asarray([cv2.resize(img1, (48, 48)),\n",
        "                      cv2.resize(img2, (48, 48)),\n",
        "                      cv2.resize(img3, (48, 48)),\n",
        "                      cv2.resize(img4, (48, 48))])\n",
        "    img_mean = np.mean(img)\n",
        "    img = img - img_mean\n",
        "    img = img / np.std(img)\n",
        "    arr.append(img)\n",
        "    labels.append(label)\n",
        "  return [arr, labels]"
      ]
    },
    {
      "cell_type": "code",
      "execution_count": 43,
      "metadata": {
        "id": "EJogzwbfhFfi"
      },
      "outputs": [],
      "source": [
        "[advertisement, Y_advertisement] = get_images_labels(list(train.glob(\"advertisement/*.*\")), 0)\n",
        "[budget, Y_budget] = get_images_labels(list(train.glob(\"budget/*.*\")), 1)\n",
        "[email, Y_email] = get_images_labels(list(train.glob(\"email/*.*\")), 2)\n",
        "[file_folder, Y_file_folder] = get_images_labels(list(train.glob(\"file_folder/*.*\")), 3)\n",
        "[form, Y_form] = get_images_labels(list(train.glob(\"form/*.*\")), 4)\n",
        "[handwritten, Y_handwritten] = get_images_labels(list(train.glob(\"handwritten/*.*\")), 5)\n",
        "[invoice, Y_invoice] = get_images_labels(list(train.glob(\"invoice/*.*\")), 6)\n",
        "[letter, Y_letter] = get_images_labels(list(train.glob(\"letter/*.*\")), 7)\n",
        "[memo, Y_memo] = get_images_labels(list(train.glob(\"memo/*.*\")), 8)\n",
        "[news_article, Y_news_article] = get_images_labels(list(train.glob(\"news_article/*.*\")), 9)\n",
        "[presentation, Y_presentation] = get_images_labels(list(train.glob(\"presentation/*.*\")), 10)\n",
        "[questionnaire, Y_questionnaire] = get_images_labels(list(train.glob(\"questionnaire/*.*\")), 11)\n",
        "[resume, Y_resume] = get_images_labels(list(train.glob(\"resume/*.*\")), 12)\n",
        "[scientific_report, Y_scientific_report] = get_images_labels(list(train.glob(\"scientific_report/*.*\")), 13)\n",
        "[specification, Y_specification] = get_images_labels(list(train.glob(\"specification/*.*\")), 14)"
      ]
    },
    {
      "cell_type": "code",
      "source": [
        "advertisement[0]"
      ],
      "metadata": {
        "colab": {
          "base_uri": "https://localhost:8080/"
        },
        "id": "pS844na0at9k",
        "outputId": "e0e53848-2c77-4174-e385-584770cbeeb1"
      },
      "execution_count": 44,
      "outputs": [
        {
          "output_type": "execute_result",
          "data": {
            "text/plain": [
              "array([[[ 0.52162696,  0.52162696,  0.52162696, ...,  0.52162696,\n",
              "          0.52162696,  0.52162696],\n",
              "        [ 0.47366433,  0.52162696,  0.52162696, ...,  0.52162696,\n",
              "          0.52162696,  0.52162696],\n",
              "        [ 0.39715251,  0.52162696,  0.52162696, ...,  0.52162696,\n",
              "          0.52162696,  0.52162696],\n",
              "        ...,\n",
              "        [-0.11216497,  0.52162696,  0.52162696, ...,  0.52162696,\n",
              "          0.52162696,  0.52162696],\n",
              "        [-0.11521022,  0.52162696,  0.52162696, ...,  0.52162696,\n",
              "          0.52162696,  0.52162696],\n",
              "        [-0.11787481,  0.52162696,  0.52162696, ...,  0.52162696,\n",
              "          0.52162696,  0.52162696]],\n",
              "\n",
              "       [[-1.71396463,  0.52162696,  0.52162696, ..., -0.01738167,\n",
              "         -0.09731939, -0.07790595],\n",
              "        [-1.70330627,  0.52162696,  0.52162696, ..., -2.1734162 ,\n",
              "         -2.5731048 , -2.47603757],\n",
              "        [-1.71662922,  0.52162696,  0.52162696, ...,  0.52162696,\n",
              "          0.52162696,  0.52162696],\n",
              "        ...,\n",
              "        [ 0.4816581 ,  0.52162696,  0.52162696, ..., -0.07790595,\n",
              "         -0.07790595, -0.98386678],\n",
              "        [ 0.52162696,  0.52162696,  0.52162696, ...,  0.40172038,\n",
              "          0.40172038,  0.52162696],\n",
              "        [ 0.52162696,  0.52162696,  0.52162696, ..., -0.89593529,\n",
              "         -0.80267461, -1.7219584 ]],\n",
              "\n",
              "       [[ 0.42874694, -0.20999351, -0.22331647, ...,  0.52162696,\n",
              "          0.52162696,  0.52162696],\n",
              "        [ 0.05722687, -3.13647541, -3.20309017, ...,  0.52162696,\n",
              "          0.52162696,  0.52162696],\n",
              "        [ 0.52162696,  0.52162696,  0.52162696, ...,  0.52162696,\n",
              "          0.52162696,  0.52162696],\n",
              "        ...,\n",
              "        [-2.31235557, -1.8822145 , -2.02496043, ...,  0.52162696,\n",
              "          0.52162696,  0.52162696],\n",
              "        [ 0.52162696,  0.52162696,  0.52162696, ...,  0.52162696,\n",
              "          0.52162696,  0.52162696],\n",
              "        [ 0.12993213,  0.15391344, -1.16505895, ...,  0.52162696,\n",
              "          0.52162696,  0.52162696]],\n",
              "\n",
              "       [[ 0.52162696,  0.52162696,  0.52162696, ...,  0.52162696,\n",
              "          0.52162696,  0.52162696],\n",
              "        [ 0.52162696,  0.52162696,  0.52162696, ...,  0.52162696,\n",
              "          0.52162696,  0.52162696],\n",
              "        [ 0.52162696,  0.52162696,  0.52162696, ...,  0.52162696,\n",
              "          0.52162696,  0.52162696],\n",
              "        ...,\n",
              "        [ 0.52162696,  0.52162696,  0.52162696, ...,  0.52162696,\n",
              "          0.52162696,  0.52162696],\n",
              "        [-2.97279341, -2.97279341, -2.97279341, ..., -2.97279341,\n",
              "         -2.97279341,  0.52162696],\n",
              "        [-5.69067591, -5.69067591, -5.69067591, ..., -5.69067591,\n",
              "         -5.69067591,  0.52162696]]])"
            ]
          },
          "metadata": {},
          "execution_count": 44
        }
      ]
    },
    {
      "cell_type": "code",
      "execution_count": 45,
      "metadata": {
        "id": "gmSWNJ9ViAaL"
      },
      "outputs": [],
      "source": [
        "images = advertisement + budget + email + file_folder + form + handwritten + invoice + letter + memo + news_article + presentation + questionnaire + resume + scientific_report + specification\n",
        "labels = Y_advertisement + Y_budget + Y_email + Y_file_folder + Y_form + Y_handwritten + Y_invoice + Y_letter + Y_memo + Y_news_article + Y_presentation + Y_questionnaire + Y_resume + Y_scientific_report + Y_specification"
      ]
    },
    {
      "cell_type": "code",
      "execution_count": 46,
      "metadata": {
        "id": "0P1eOP-jigTx"
      },
      "outputs": [],
      "source": [
        "images = np.asarray(images)\n",
        "labels = np.asarray(labels)"
      ]
    },
    {
      "cell_type": "code",
      "execution_count": 47,
      "metadata": {
        "colab": {
          "base_uri": "https://localhost:8080/"
        },
        "id": "JhM4cSsZinx5",
        "outputId": "bde990b9-5433-492a-aacb-be81c3e13bf0"
      },
      "outputs": [
        {
          "output_type": "execute_result",
          "data": {
            "text/plain": [
              "(37427, 4, 48, 48)"
            ]
          },
          "metadata": {},
          "execution_count": 47
        }
      ],
      "source": [
        "images.shape"
      ]
    },
    {
      "cell_type": "code",
      "execution_count": 48,
      "metadata": {
        "colab": {
          "base_uri": "https://localhost:8080/"
        },
        "id": "Ggdv_AYujJNA",
        "outputId": "479bb5fd-fc5b-4f62-951b-63d936a8b322"
      },
      "outputs": [
        {
          "output_type": "execute_result",
          "data": {
            "text/plain": [
              "(37427,)"
            ]
          },
          "metadata": {},
          "execution_count": 48
        }
      ],
      "source": [
        "labels.shape"
      ]
    },
    {
      "cell_type": "code",
      "execution_count": 49,
      "metadata": {
        "colab": {
          "base_uri": "https://localhost:8080/",
          "height": 373
        },
        "id": "cDx4_YnNfsYY",
        "outputId": "d103760b-3a8b-4c4d-c64c-d6fc0e7dbd63"
      },
      "outputs": [
        {
          "output_type": "display_data",
          "data": {
            "text/plain": [
              "<Figure size 72x72 with 1 Axes>"
            ],
            "image/png": "[encoded data removed]"
          },
          "metadata": {
            "needs_background": "light"
          }
        },
        {
          "output_type": "display_data",
          "data": {
            "text/plain": [
              "<Figure size 72x72 with 1 Axes>"
            ],
            "image/png": "[encoded data removed]"
          },
          "metadata": {
            "needs_background": "light"
          }
        },
        {
          "output_type": "display_data",
          "data": {
            "text/plain": [
              "<Figure size 72x72 with 1 Axes>"
            ],
            "image/png": "[encoded data removed]"
          },
          "metadata": {
            "needs_background": "light"
          }
        },
        {
          "output_type": "display_data",
          "data": {
            "text/plain": [
              "<Figure size 72x72 with 1 Axes>"
            ],
            "image/png": "[encoded data removed]"
          },
          "metadata": {
            "needs_background": "light"
          }
        }
      ],
      "source": [
        "for i in range(4):\n",
        "  plt.figure(figsize = (1, 1))\n",
        "  plt.imshow(images[4][i])\n",
        "  plt.grid(False)\n",
        "  plt.show()"
      ]
    },
    {
      "cell_type": "code",
      "execution_count": 50,
      "metadata": {
        "colab": {
          "base_uri": "https://localhost:8080/"
        },
        "id": "267hgjqVf68o",
        "outputId": "17e0ee88-56c2-43e6-decc-08687eb7c129"
      },
      "outputs": [
        {
          "output_type": "execute_result",
          "data": {
            "text/plain": [
              "0"
            ]
          },
          "metadata": {},
          "execution_count": 50
        }
      ],
      "source": [
        "labels[0]"
      ]
    },
    {
      "cell_type": "code",
      "execution_count": 51,
      "metadata": {
        "id": "mtLoz1UzDLw1"
      },
      "outputs": [],
      "source": [
        "labels = to_categorical(labels)"
      ]
    },
    {
      "cell_type": "code",
      "execution_count": 52,
      "metadata": {
        "colab": {
          "base_uri": "https://localhost:8080/"
        },
        "id": "LeAL_Bifkscq",
        "outputId": "8aea11e6-7d39-4549-f0eb-064a9ecbba2d"
      },
      "outputs": [
        {
          "output_type": "execute_result",
          "data": {
            "text/plain": [
              "array([[1., 0., 0., ..., 0., 0., 0.],\n",
              "       [1., 0., 0., ..., 0., 0., 0.],\n",
              "       [1., 0., 0., ..., 0., 0., 0.],\n",
              "       ...,\n",
              "       [0., 0., 0., ..., 0., 0., 1.],\n",
              "       [0., 0., 0., ..., 0., 0., 1.],\n",
              "       [0., 0., 0., ..., 0., 0., 1.]], dtype=float32)"
            ]
          },
          "metadata": {},
          "execution_count": 52
        }
      ],
      "source": [
        "labels"
      ]
    },
    {
      "cell_type": "code",
      "source": [
        "images.shape"
      ],
      "metadata": {
        "colab": {
          "base_uri": "https://localhost:8080/"
        },
        "id": "-tv3Usq-4VEL",
        "outputId": "993d67f1-8dbb-4810-ad7d-8bef7bb1fac0"
      },
      "execution_count": 53,
      "outputs": [
        {
          "output_type": "execute_result",
          "data": {
            "text/plain": [
              "(37427, 4, 48, 48)"
            ]
          },
          "metadata": {},
          "execution_count": 53
        }
      ]
    },
    {
      "cell_type": "code",
      "execution_count": 61,
      "metadata": {
        "id": "UtkEJeaJKGvR"
      },
      "outputs": [],
      "source": [
        "m = tf.keras.models.Sequential()\n",
        "m.add(tf.keras.layers.TimeDistributed(tf.keras.layers.Conv2D(512, 3, activation = \"relu\" ), input_shape=(4, 48, 48, 1)))\n",
        "m.add(tf.keras.layers.TimeDistributed(tf.keras.layers.MaxPooling2D()))\n",
        "m.add(tf.keras.layers.TimeDistributed(tf.keras.layers.Dropout(0.2)))\n",
        "m.add(tf.keras.layers.TimeDistributed(tf.keras.layers.Conv2D(256, 3, activation = \"relu\")))\n",
        "m.add(tf.keras.layers.TimeDistributed(tf.keras.layers.MaxPooling2D()))\n",
        "m.add(tf.keras.layers.TimeDistributed(tf.keras.layers.Dropout(0.2)))\n",
        "m.add(tf.keras.layers.TimeDistributed(tf.keras.layers.Flatten()))\n",
        "m.add(tf.keras.layers.GlobalAveragePooling1D())\n",
        "m.add(tf.keras.layers.Dense(1024, activation = \"sigmoid\"))\n",
        "m.add(tf.keras.layers.Dropout(0.2))\n",
        "m.add(tf.keras.layers.Dense(15, activation = \"softmax\"))"
      ]
    },
    {
      "cell_type": "code",
      "execution_count": 62,
      "metadata": {
        "colab": {
          "base_uri": "https://localhost:8080/"
        },
        "id": "oELZJnRTMWbh",
        "outputId": "3eabce7a-1cd9-42d5-af4a-1bf55af60f0b"
      },
      "outputs": [
        {
          "output_type": "stream",
          "name": "stdout",
          "text": [
            "Model: \"sequential_5\"\n",
            "_________________________________________________________________\n",
            " Layer (type)                Output Shape              Param #   \n",
            "=================================================================\n",
            " time_distributed_35 (TimeDi  (None, 4, 46, 46, 512)   5120      \n",
            " stributed)                                                      \n",
            "                                                                 \n",
            " time_distributed_36 (TimeDi  (None, 4, 23, 23, 512)   0         \n",
            " stributed)                                                      \n",
            "                                                                 \n",
            " time_distributed_37 (TimeDi  (None, 4, 23, 23, 512)   0         \n",
            " stributed)                                                      \n",
            "                                                                 \n",
            " time_distributed_38 (TimeDi  (None, 4, 21, 21, 256)   1179904   \n",
            " stributed)                                                      \n",
            "                                                                 \n",
            " time_distributed_39 (TimeDi  (None, 4, 10, 10, 256)   0         \n",
            " stributed)                                                      \n",
            "                                                                 \n",
            " time_distributed_40 (TimeDi  (None, 4, 10, 10, 256)   0         \n",
            " stributed)                                                      \n",
            "                                                                 \n",
            " time_distributed_41 (TimeDi  (None, 4, 25600)         0         \n",
            " stributed)                                                      \n",
            "                                                                 \n",
            " global_average_pooling1d_3   (None, 25600)            0         \n",
            " (GlobalAveragePooling1D)                                        \n",
            "                                                                 \n",
            " dense_5 (Dense)             (None, 1024)              26215424  \n",
            "                                                                 \n",
            " dropout_13 (Dropout)        (None, 1024)              0         \n",
            "                                                                 \n",
            " dense_6 (Dense)             (None, 15)                15375     \n",
            "                                                                 \n",
            "=================================================================\n",
            "Total params: 27,415,823\n",
            "Trainable params: 27,415,823\n",
            "Non-trainable params: 0\n",
            "_________________________________________________________________\n"
          ]
        }
      ],
      "source": [
        "m.summary()"
      ]
    },
    {
      "cell_type": "code",
      "execution_count": 63,
      "metadata": {
        "id": "7AsElVzdMo1Q"
      },
      "outputs": [],
      "source": [
        "m.compile(optimizer= \"adam\", loss = 'categorical_crossentropy',\n",
        "              metrics = [ TruePositives(name='tp'), \n",
        "                         FalsePositives(name='fp'), \n",
        "                         TrueNegatives(name='tn'), \n",
        "                         FalseNegatives(name='fn'), \n",
        "                         \"accuracy\", \n",
        "                         Precision(name='precision'), \n",
        "                         Recall(name='recall'), \n",
        "                         AUC(name='auc')])"
      ]
    },
    {
      "cell_type": "code",
      "execution_count": 59,
      "metadata": {
        "id": "0q5fJalmm2Dj"
      },
      "outputs": [],
      "source": [
        "from keras.callbacks import TensorBoard, EarlyStopping\n",
        "earlyStopping = EarlyStopping(monitor = 'loss', patience = 16, mode = 'min', restore_best_weights = True)"
      ]
    },
    {
      "cell_type": "code",
      "execution_count": 64,
      "metadata": {
        "colab": {
          "base_uri": "https://localhost:8080/"
        },
        "id": "ES4z0sUcX2fy",
        "outputId": "fc834777-377d-438f-e4bd-537475e4a86d"
      },
      "outputs": [
        {
          "output_type": "stream",
          "name": "stdout",
          "text": [
            "Epoch 1/400\n",
            "2340/2340 [==============================] - 173s 73ms/step - loss: 1.9226 - tp: 6904.0000 - fp: 2477.0000 - tn: 521501.0000 - fn: 30523.0000 - accuracy: 0.3895 - precision: 0.7360 - recall: 0.1845 - auc: 0.8414\n",
            "Epoch 2/400\n",
            "2340/2340 [==============================] - 171s 73ms/step - loss: 1.5966 - tp: 11099.0000 - fp: 3464.0000 - tn: 520514.0000 - fn: 26328.0000 - accuracy: 0.4968 - precision: 0.7621 - recall: 0.2966 - auc: 0.8957\n",
            "Epoch 3/400\n",
            "2340/2340 [==============================] - 171s 73ms/step - loss: 1.4525 - tp: 13386.0000 - fp: 3872.0000 - tn: 520106.0000 - fn: 24041.0000 - accuracy: 0.5414 - precision: 0.7756 - recall: 0.3577 - auc: 0.9146\n",
            "Epoch 4/400\n",
            "2340/2340 [==============================] - 171s 73ms/step - loss: 1.3376 - tp: 15381.0000 - fp: 4177.0000 - tn: 519801.0000 - fn: 22046.0000 - accuracy: 0.5778 - precision: 0.7864 - recall: 0.4110 - auc: 0.9279\n",
            "Epoch 5/400\n",
            "2340/2340 [==============================] - 171s 73ms/step - loss: 1.2449 - tp: 16708.0000 - fp: 4330.0000 - tn: 519648.0000 - fn: 20719.0000 - accuracy: 0.6037 - precision: 0.7942 - recall: 0.4464 - auc: 0.9377\n",
            "Epoch 6/400\n",
            "2340/2340 [==============================] - 171s 73ms/step - loss: 1.1578 - tp: 18106.0000 - fp: 4440.0000 - tn: 519538.0000 - fn: 19321.0000 - accuracy: 0.6299 - precision: 0.8031 - recall: 0.4838 - auc: 0.9464\n",
            "Epoch 7/400\n",
            "2340/2340 [==============================] - 171s 73ms/step - loss: 1.0983 - tp: 19107.0000 - fp: 4485.0000 - tn: 519493.0000 - fn: 18320.0000 - accuracy: 0.6501 - precision: 0.8099 - recall: 0.5105 - auc: 0.9517\n",
            "Epoch 8/400\n",
            "2340/2340 [==============================] - 171s 73ms/step - loss: 1.0195 - tp: 20317.0000 - fp: 4503.0000 - tn: 519475.0000 - fn: 17110.0000 - accuracy: 0.6735 - precision: 0.8186 - recall: 0.5428 - auc: 0.9585\n",
            "Epoch 9/400\n",
            "2340/2340 [==============================] - 171s 73ms/step - loss: 0.9645 - tp: 21182.0000 - fp: 4612.0000 - tn: 519366.0000 - fn: 16245.0000 - accuracy: 0.6902 - precision: 0.8212 - recall: 0.5660 - auc: 0.9628\n",
            "Epoch 10/400\n",
            "2340/2340 [==============================] - 170s 73ms/step - loss: 0.9164 - tp: 22098.0000 - fp: 4543.0000 - tn: 519435.0000 - fn: 15329.0000 - accuracy: 0.7058 - precision: 0.8295 - recall: 0.5904 - auc: 0.9663\n",
            "Epoch 11/400\n",
            "2340/2340 [==============================] - 170s 73ms/step - loss: 0.8701 - tp: 22911.0000 - fp: 4592.0000 - tn: 519386.0000 - fn: 14516.0000 - accuracy: 0.7196 - precision: 0.8330 - recall: 0.6122 - auc: 0.9695\n",
            "Epoch 12/400\n",
            "2340/2340 [==============================] - 170s 73ms/step - loss: 0.8169 - tp: 23730.0000 - fp: 4495.0000 - tn: 519483.0000 - fn: 13697.0000 - accuracy: 0.7347 - precision: 0.8407 - recall: 0.6340 - auc: 0.9731\n",
            "Epoch 13/400\n",
            "2340/2340 [==============================] - 170s 73ms/step - loss: 0.7801 - tp: 24439.0000 - fp: 4484.0000 - tn: 519494.0000 - fn: 12988.0000 - accuracy: 0.7450 - precision: 0.8450 - recall: 0.6530 - auc: 0.9754\n",
            "Epoch 14/400\n",
            "2340/2340 [==============================] - 171s 73ms/step - loss: 0.7507 - tp: 25061.0000 - fp: 4496.0000 - tn: 519482.0000 - fn: 12366.0000 - accuracy: 0.7556 - precision: 0.8479 - recall: 0.6696 - auc: 0.9769\n",
            "Epoch 15/400\n",
            "2340/2340 [==============================] - 170s 73ms/step - loss: 0.7225 - tp: 25538.0000 - fp: 4492.0000 - tn: 519486.0000 - fn: 11889.0000 - accuracy: 0.7638 - precision: 0.8504 - recall: 0.6823 - auc: 0.9784\n",
            "Epoch 16/400\n",
            "2340/2340 [==============================] - 170s 73ms/step - loss: 0.6912 - tp: 26069.0000 - fp: 4373.0000 - tn: 519605.0000 - fn: 11358.0000 - accuracy: 0.7737 - precision: 0.8563 - recall: 0.6965 - auc: 0.9802\n",
            "Epoch 17/400\n",
            "2340/2340 [==============================] - 170s 73ms/step - loss: 0.6716 - tp: 26496.0000 - fp: 4434.0000 - tn: 519544.0000 - fn: 10931.0000 - accuracy: 0.7802 - precision: 0.8566 - recall: 0.7079 - auc: 0.9814\n",
            "Epoch 18/400\n",
            "2340/2340 [==============================] - 170s 73ms/step - loss: 0.6426 - tp: 26932.0000 - fp: 4385.0000 - tn: 519593.0000 - fn: 10495.0000 - accuracy: 0.7894 - precision: 0.8600 - recall: 0.7196 - auc: 0.9827\n",
            "Epoch 19/400\n",
            "2340/2340 [==============================] - 170s 73ms/step - loss: 0.6170 - tp: 27352.0000 - fp: 4282.0000 - tn: 519696.0000 - fn: 10075.0000 - accuracy: 0.7950 - precision: 0.8646 - recall: 0.7308 - auc: 0.9841\n",
            "Epoch 20/400\n",
            "2340/2340 [==============================] - 170s 73ms/step - loss: 0.5941 - tp: 27724.0000 - fp: 4211.0000 - tn: 519767.0000 - fn: 9703.0000 - accuracy: 0.8039 - precision: 0.8681 - recall: 0.7407 - auc: 0.9848\n",
            "Epoch 21/400\n",
            "2340/2340 [==============================] - 170s 73ms/step - loss: 0.5766 - tp: 28253.0000 - fp: 4198.0000 - tn: 519780.0000 - fn: 9174.0000 - accuracy: 0.8112 - precision: 0.8706 - recall: 0.7549 - auc: 0.9856\n",
            "Epoch 22/400\n",
            "2340/2340 [==============================] - 168s 72ms/step - loss: 0.5625 - tp: 28429.0000 - fp: 4170.0000 - tn: 519808.0000 - fn: 8998.0000 - accuracy: 0.8133 - precision: 0.8721 - recall: 0.7596 - auc: 0.9861\n",
            "Epoch 23/400\n",
            "2340/2340 [==============================] - 168s 72ms/step - loss: 0.5354 - tp: 28863.0000 - fp: 4019.0000 - tn: 519959.0000 - fn: 8564.0000 - accuracy: 0.8242 - precision: 0.8778 - recall: 0.7712 - auc: 0.9874\n",
            "Epoch 24/400\n",
            "2340/2340 [==============================] - 169s 72ms/step - loss: 0.5125 - tp: 29258.0000 - fp: 3830.0000 - tn: 520148.0000 - fn: 8169.0000 - accuracy: 0.8310 - precision: 0.8842 - recall: 0.7817 - auc: 0.9884\n",
            "Epoch 25/400\n",
            "2340/2340 [==============================] - 168s 72ms/step - loss: 0.5072 - tp: 29476.0000 - fp: 3897.0000 - tn: 520081.0000 - fn: 7951.0000 - accuracy: 0.8344 - precision: 0.8832 - recall: 0.7876 - auc: 0.9883\n",
            "Epoch 26/400\n",
            "2340/2340 [==============================] - 168s 72ms/step - loss: 0.4855 - tp: 29798.0000 - fp: 3849.0000 - tn: 520129.0000 - fn: 7629.0000 - accuracy: 0.8413 - precision: 0.8856 - recall: 0.7962 - auc: 0.9891\n",
            "Epoch 27/400\n",
            "2340/2340 [==============================] - 168s 72ms/step - loss: 0.4727 - tp: 30091.0000 - fp: 3737.0000 - tn: 520241.0000 - fn: 7336.0000 - accuracy: 0.8448 - precision: 0.8895 - recall: 0.8040 - auc: 0.9895\n",
            "Epoch 28/400\n",
            "2340/2340 [==============================] - 167s 71ms/step - loss: 0.4582 - tp: 30270.0000 - fp: 3708.0000 - tn: 520270.0000 - fn: 7157.0000 - accuracy: 0.8505 - precision: 0.8909 - recall: 0.8088 - auc: 0.9902\n",
            "Epoch 29/400\n",
            "2340/2340 [==============================] - 168s 72ms/step - loss: 0.4524 - tp: 30402.0000 - fp: 3681.0000 - tn: 520297.0000 - fn: 7025.0000 - accuracy: 0.8505 - precision: 0.8920 - recall: 0.8123 - auc: 0.9904\n",
            "Epoch 30/400\n",
            "2340/2340 [==============================] - 167s 72ms/step - loss: 0.4321 - tp: 30701.0000 - fp: 3536.0000 - tn: 520442.0000 - fn: 6726.0000 - accuracy: 0.8586 - precision: 0.8967 - recall: 0.8203 - auc: 0.9911\n",
            "Epoch 31/400\n",
            "2340/2340 [==============================] - 167s 71ms/step - loss: 0.4255 - tp: 30850.0000 - fp: 3597.0000 - tn: 520381.0000 - fn: 6577.0000 - accuracy: 0.8591 - precision: 0.8956 - recall: 0.8243 - auc: 0.9911\n",
            "Epoch 32/400\n",
            "2340/2340 [==============================] - 167s 71ms/step - loss: 0.4088 - tp: 31108.0000 - fp: 3466.0000 - tn: 520512.0000 - fn: 6319.0000 - accuracy: 0.8652 - precision: 0.8998 - recall: 0.8312 - auc: 0.9917\n",
            "Epoch 33/400\n",
            "2340/2340 [==============================] - 167s 71ms/step - loss: 0.4081 - tp: 31106.0000 - fp: 3511.0000 - tn: 520467.0000 - fn: 6321.0000 - accuracy: 0.8646 - precision: 0.8986 - recall: 0.8311 - auc: 0.9919\n",
            "Epoch 34/400\n",
            "2340/2340 [==============================] - 168s 72ms/step - loss: 0.3979 - tp: 31303.0000 - fp: 3392.0000 - tn: 520586.0000 - fn: 6124.0000 - accuracy: 0.8688 - precision: 0.9022 - recall: 0.8364 - auc: 0.9922\n",
            "Epoch 35/400\n",
            "2340/2340 [==============================] - 167s 71ms/step - loss: 0.3937 - tp: 31441.0000 - fp: 3400.0000 - tn: 520578.0000 - fn: 5986.0000 - accuracy: 0.8708 - precision: 0.9024 - recall: 0.8401 - auc: 0.9921\n",
            "Epoch 36/400\n",
            "2340/2340 [==============================] - 167s 71ms/step - loss: 0.3798 - tp: 31674.0000 - fp: 3342.0000 - tn: 520636.0000 - fn: 5753.0000 - accuracy: 0.8753 - precision: 0.9046 - recall: 0.8463 - auc: 0.9927\n",
            "Epoch 37/400\n",
            "2340/2340 [==============================] - 167s 71ms/step - loss: 0.3865 - tp: 31584.0000 - fp: 3421.0000 - tn: 520557.0000 - fn: 5843.0000 - accuracy: 0.8722 - precision: 0.9023 - recall: 0.8439 - auc: 0.9923\n",
            "Epoch 38/400\n",
            "2340/2340 [==============================] - 167s 71ms/step - loss: 0.3601 - tp: 32002.0000 - fp: 3176.0000 - tn: 520802.0000 - fn: 5425.0000 - accuracy: 0.8807 - precision: 0.9097 - recall: 0.8551 - auc: 0.9932\n",
            "Epoch 39/400\n",
            "2340/2340 [==============================] - 168s 72ms/step - loss: 0.3629 - tp: 31944.0000 - fp: 3265.0000 - tn: 520713.0000 - fn: 5483.0000 - accuracy: 0.8795 - precision: 0.9073 - recall: 0.8535 - auc: 0.9931\n",
            "Epoch 40/400\n",
            "2340/2340 [==============================] - 167s 71ms/step - loss: 0.3607 - tp: 32018.0000 - fp: 3262.0000 - tn: 520716.0000 - fn: 5409.0000 - accuracy: 0.8810 - precision: 0.9075 - recall: 0.8555 - auc: 0.9930\n",
            "Epoch 41/400\n",
            "2340/2340 [==============================] - 167s 71ms/step - loss: 0.3502 - tp: 32227.0000 - fp: 3129.0000 - tn: 520849.0000 - fn: 5200.0000 - accuracy: 0.8846 - precision: 0.9115 - recall: 0.8611 - auc: 0.9934\n",
            "Epoch 42/400\n",
            "2340/2340 [==============================] - 167s 71ms/step - loss: 0.3424 - tp: 32264.0000 - fp: 3182.0000 - tn: 520796.0000 - fn: 5163.0000 - accuracy: 0.8856 - precision: 0.9102 - recall: 0.8621 - auc: 0.9933\n",
            "Epoch 43/400\n",
            "2340/2340 [==============================] - 167s 71ms/step - loss: 0.3438 - tp: 32292.0000 - fp: 3114.0000 - tn: 520864.0000 - fn: 5135.0000 - accuracy: 0.8870 - precision: 0.9120 - recall: 0.8628 - auc: 0.9934\n",
            "Epoch 44/400\n",
            "2340/2340 [==============================] - 167s 71ms/step - loss: 0.3323 - tp: 32521.0000 - fp: 3024.0000 - tn: 520954.0000 - fn: 4906.0000 - accuracy: 0.8913 - precision: 0.9149 - recall: 0.8689 - auc: 0.9938\n",
            "Epoch 45/400\n",
            "2340/2340 [==============================] - 167s 71ms/step - loss: 0.3222 - tp: 32677.0000 - fp: 2954.0000 - tn: 521024.0000 - fn: 4750.0000 - accuracy: 0.8948 - precision: 0.9171 - recall: 0.8731 - auc: 0.9938\n",
            "Epoch 46/400\n",
            "2340/2340 [==============================] - 167s 71ms/step - loss: 0.3326 - tp: 32561.0000 - fp: 3047.0000 - tn: 520931.0000 - fn: 4866.0000 - accuracy: 0.8912 - precision: 0.9144 - recall: 0.8700 - auc: 0.9934\n",
            "Epoch 47/400\n",
            "2340/2340 [==============================] - 167s 71ms/step - loss: 0.3270 - tp: 32643.0000 - fp: 3041.0000 - tn: 520937.0000 - fn: 4784.0000 - accuracy: 0.8925 - precision: 0.9148 - recall: 0.8722 - auc: 0.9937\n",
            "Epoch 48/400\n",
            "2340/2340 [==============================] - 167s 71ms/step - loss: 0.3178 - tp: 32835.0000 - fp: 2929.0000 - tn: 521049.0000 - fn: 4592.0000 - accuracy: 0.8964 - precision: 0.9181 - recall: 0.8773 - auc: 0.9938\n",
            "Epoch 49/400\n",
            "2340/2340 [==============================] - 166s 71ms/step - loss: 0.3200 - tp: 32798.0000 - fp: 3004.0000 - tn: 520974.0000 - fn: 4629.0000 - accuracy: 0.8959 - precision: 0.9161 - recall: 0.8763 - auc: 0.9937\n",
            "Epoch 50/400\n",
            "2340/2340 [==============================] - 167s 71ms/step - loss: 0.3297 - tp: 32701.0000 - fp: 3078.0000 - tn: 520900.0000 - fn: 4726.0000 - accuracy: 0.8928 - precision: 0.9140 - recall: 0.8737 - auc: 0.9932\n",
            "Epoch 51/400\n",
            "2340/2340 [==============================] - 167s 71ms/step - loss: 0.3189 - tp: 32897.0000 - fp: 2980.0000 - tn: 520998.0000 - fn: 4530.0000 - accuracy: 0.8979 - precision: 0.9169 - recall: 0.8790 - auc: 0.9934\n",
            "Epoch 52/400\n",
            "2340/2340 [==============================] - 167s 71ms/step - loss: 0.3060 - tp: 33027.0000 - fp: 2892.0000 - tn: 521086.0000 - fn: 4400.0000 - accuracy: 0.8996 - precision: 0.9195 - recall: 0.8824 - auc: 0.9943\n",
            "Epoch 53/400\n",
            "2340/2340 [==============================] - 167s 71ms/step - loss: 0.3087 - tp: 32925.0000 - fp: 2974.0000 - tn: 521004.0000 - fn: 4502.0000 - accuracy: 0.8973 - precision: 0.9172 - recall: 0.8797 - auc: 0.9940\n",
            "Epoch 54/400\n",
            "2340/2340 [==============================] - 166s 71ms/step - loss: 0.2974 - tp: 33132.0000 - fp: 2828.0000 - tn: 521150.0000 - fn: 4295.0000 - accuracy: 0.9022 - precision: 0.9214 - recall: 0.8852 - auc: 0.9946\n",
            "Epoch 55/400\n",
            "2340/2340 [==============================] - 166s 71ms/step - loss: 0.2973 - tp: 33132.0000 - fp: 2868.0000 - tn: 521110.0000 - fn: 4295.0000 - accuracy: 0.9035 - precision: 0.9203 - recall: 0.8852 - auc: 0.9945\n",
            "Epoch 56/400\n",
            "2340/2340 [==============================] - 166s 71ms/step - loss: 0.3010 - tp: 33105.0000 - fp: 2877.0000 - tn: 521101.0000 - fn: 4322.0000 - accuracy: 0.9008 - precision: 0.9200 - recall: 0.8845 - auc: 0.9941\n",
            "Epoch 57/400\n",
            "2340/2340 [==============================] - 165s 71ms/step - loss: 0.2984 - tp: 33195.0000 - fp: 2830.0000 - tn: 521148.0000 - fn: 4232.0000 - accuracy: 0.9035 - precision: 0.9214 - recall: 0.8869 - auc: 0.9942\n",
            "Epoch 58/400\n",
            "2340/2340 [==============================] - 166s 71ms/step - loss: 0.3013 - tp: 33183.0000 - fp: 2883.0000 - tn: 521095.0000 - fn: 4244.0000 - accuracy: 0.9019 - precision: 0.9201 - recall: 0.8866 - auc: 0.9940\n",
            "Epoch 59/400\n",
            "2340/2340 [==============================] - 166s 71ms/step - loss: 0.3025 - tp: 33150.0000 - fp: 2891.0000 - tn: 521087.0000 - fn: 4277.0000 - accuracy: 0.9022 - precision: 0.9198 - recall: 0.8857 - auc: 0.9941\n",
            "Epoch 60/400\n",
            "2340/2340 [==============================] - 166s 71ms/step - loss: 0.3004 - tp: 33192.0000 - fp: 2899.0000 - tn: 521079.0000 - fn: 4235.0000 - accuracy: 0.9019 - precision: 0.9197 - recall: 0.8868 - auc: 0.9940\n",
            "Epoch 61/400\n",
            "2340/2340 [==============================] - 166s 71ms/step - loss: 0.2997 - tp: 33251.0000 - fp: 2810.0000 - tn: 521168.0000 - fn: 4176.0000 - accuracy: 0.9034 - precision: 0.9221 - recall: 0.8884 - auc: 0.9941\n",
            "Epoch 62/400\n",
            "2340/2340 [==============================] - 166s 71ms/step - loss: 0.2899 - tp: 33362.0000 - fp: 2777.0000 - tn: 521201.0000 - fn: 4065.0000 - accuracy: 0.9060 - precision: 0.9232 - recall: 0.8914 - auc: 0.9943\n",
            "Epoch 63/400\n",
            "2340/2340 [==============================] - 166s 71ms/step - loss: 0.3044 - tp: 33213.0000 - fp: 2938.0000 - tn: 521040.0000 - fn: 4214.0000 - accuracy: 0.9018 - precision: 0.9187 - recall: 0.8874 - auc: 0.9937\n",
            "Epoch 64/400\n",
            "2340/2340 [==============================] - 166s 71ms/step - loss: 0.2936 - tp: 33321.0000 - fp: 2862.0000 - tn: 521116.0000 - fn: 4106.0000 - accuracy: 0.9048 - precision: 0.9209 - recall: 0.8903 - auc: 0.9942\n",
            "Epoch 65/400\n",
            "2340/2340 [==============================] - 166s 71ms/step - loss: 0.2789 - tp: 33460.0000 - fp: 2675.0000 - tn: 521303.0000 - fn: 3967.0000 - accuracy: 0.9086 - precision: 0.9260 - recall: 0.8940 - auc: 0.9949\n",
            "Epoch 66/400\n",
            "2340/2340 [==============================] - 166s 71ms/step - loss: 0.2899 - tp: 33355.0000 - fp: 2787.0000 - tn: 521191.0000 - fn: 4072.0000 - accuracy: 0.9065 - precision: 0.9229 - recall: 0.8912 - auc: 0.9942\n",
            "Epoch 67/400\n",
            "2340/2340 [==============================] - 166s 71ms/step - loss: 0.2885 - tp: 33406.0000 - fp: 2839.0000 - tn: 521139.0000 - fn: 4021.0000 - accuracy: 0.9066 - precision: 0.9217 - recall: 0.8926 - auc: 0.9942\n",
            "Epoch 68/400\n",
            "2340/2340 [==============================] - 166s 71ms/step - loss: 0.2836 - tp: 33462.0000 - fp: 2782.0000 - tn: 521196.0000 - fn: 3965.0000 - accuracy: 0.9079 - precision: 0.9232 - recall: 0.8941 - auc: 0.9945\n",
            "Epoch 69/400\n",
            "2340/2340 [==============================] - 166s 71ms/step - loss: 0.2836 - tp: 33470.0000 - fp: 2756.0000 - tn: 521222.0000 - fn: 3957.0000 - accuracy: 0.9083 - precision: 0.9239 - recall: 0.8943 - auc: 0.9942\n",
            "Epoch 70/400\n",
            "2340/2340 [==============================] - 166s 71ms/step - loss: 0.2794 - tp: 33554.0000 - fp: 2704.0000 - tn: 521274.0000 - fn: 3873.0000 - accuracy: 0.9097 - precision: 0.9254 - recall: 0.8965 - auc: 0.9945\n",
            "Epoch 71/400\n",
            "2340/2340 [==============================] - 166s 71ms/step - loss: 0.2876 - tp: 33488.0000 - fp: 2755.0000 - tn: 521223.0000 - fn: 3939.0000 - accuracy: 0.9078 - precision: 0.9240 - recall: 0.8948 - auc: 0.9943\n",
            "Epoch 72/400\n",
            "2340/2340 [==============================] - 166s 71ms/step - loss: 0.2891 - tp: 33439.0000 - fp: 2812.0000 - tn: 521166.0000 - fn: 3988.0000 - accuracy: 0.9065 - precision: 0.9224 - recall: 0.8934 - auc: 0.9945\n",
            "Epoch 73/400\n",
            "2340/2340 [==============================] - 166s 71ms/step - loss: 0.2662 - tp: 33678.0000 - fp: 2654.0000 - tn: 521324.0000 - fn: 3749.0000 - accuracy: 0.9115 - precision: 0.9270 - recall: 0.8998 - auc: 0.9951\n",
            "Epoch 74/400\n",
            "2340/2340 [==============================] - 166s 71ms/step - loss: 0.2723 - tp: 33651.0000 - fp: 2701.0000 - tn: 521277.0000 - fn: 3776.0000 - accuracy: 0.9123 - precision: 0.9257 - recall: 0.8991 - auc: 0.9945\n",
            "Epoch 75/400\n",
            "2340/2340 [==============================] - 166s 71ms/step - loss: 0.2781 - tp: 33568.0000 - fp: 2738.0000 - tn: 521240.0000 - fn: 3859.0000 - accuracy: 0.9095 - precision: 0.9246 - recall: 0.8969 - auc: 0.9943\n",
            "Epoch 76/400\n",
            "2340/2340 [==============================] - 166s 71ms/step - loss: 0.2821 - tp: 33525.0000 - fp: 2754.0000 - tn: 521224.0000 - fn: 3902.0000 - accuracy: 0.9090 - precision: 0.9241 - recall: 0.8957 - auc: 0.9942\n",
            "Epoch 77/400\n",
            "2340/2340 [==============================] - 166s 71ms/step - loss: 0.2804 - tp: 33602.0000 - fp: 2681.0000 - tn: 521297.0000 - fn: 3825.0000 - accuracy: 0.9110 - precision: 0.9261 - recall: 0.8978 - auc: 0.9943\n",
            "Epoch 78/400\n",
            "2340/2340 [==============================] - 166s 71ms/step - loss: 0.2841 - tp: 33543.0000 - fp: 2800.0000 - tn: 521178.0000 - fn: 3884.0000 - accuracy: 0.9088 - precision: 0.9230 - recall: 0.8962 - auc: 0.9942\n",
            "Epoch 79/400\n",
            "2340/2340 [==============================] - 166s 71ms/step - loss: 0.2795 - tp: 33601.0000 - fp: 2763.0000 - tn: 521215.0000 - fn: 3826.0000 - accuracy: 0.9095 - precision: 0.9240 - recall: 0.8978 - auc: 0.9942\n",
            "Epoch 80/400\n",
            "2340/2340 [==============================] - 166s 71ms/step - loss: 0.2894 - tp: 33517.0000 - fp: 2810.0000 - tn: 521168.0000 - fn: 3910.0000 - accuracy: 0.9080 - precision: 0.9226 - recall: 0.8955 - auc: 0.9938\n",
            "Epoch 81/400\n",
            "2340/2340 [==============================] - 166s 71ms/step - loss: 0.2741 - tp: 33693.0000 - fp: 2678.0000 - tn: 521300.0000 - fn: 3734.0000 - accuracy: 0.9121 - precision: 0.9264 - recall: 0.9002 - auc: 0.9942\n",
            "Epoch 82/400\n",
            "2340/2340 [==============================] - 166s 71ms/step - loss: 0.2808 - tp: 33594.0000 - fp: 2737.0000 - tn: 521241.0000 - fn: 3833.0000 - accuracy: 0.9101 - precision: 0.9247 - recall: 0.8976 - auc: 0.9942\n",
            "Epoch 83/400\n",
            "2340/2340 [==============================] - 166s 71ms/step - loss: 0.2866 - tp: 33471.0000 - fp: 2841.0000 - tn: 521137.0000 - fn: 3956.0000 - accuracy: 0.9063 - precision: 0.9218 - recall: 0.8943 - auc: 0.9943\n",
            "Epoch 84/400\n",
            "2340/2340 [==============================] - 166s 71ms/step - loss: 0.2847 - tp: 33487.0000 - fp: 2842.0000 - tn: 521136.0000 - fn: 3940.0000 - accuracy: 0.9067 - precision: 0.9218 - recall: 0.8947 - auc: 0.9942\n",
            "Epoch 85/400\n",
            "2340/2340 [==============================] - 166s 71ms/step - loss: 0.2736 - tp: 33738.0000 - fp: 2650.0000 - tn: 521328.0000 - fn: 3689.0000 - accuracy: 0.9132 - precision: 0.9272 - recall: 0.9014 - auc: 0.9946\n",
            "Epoch 86/400\n",
            "2340/2340 [==============================] - 166s 71ms/step - loss: 0.2756 - tp: 33730.0000 - fp: 2680.0000 - tn: 521298.0000 - fn: 3697.0000 - accuracy: 0.9123 - precision: 0.9264 - recall: 0.9012 - auc: 0.9943\n",
            "Epoch 87/400\n",
            "2340/2340 [==============================] - 166s 71ms/step - loss: 0.2739 - tp: 33681.0000 - fp: 2722.0000 - tn: 521256.0000 - fn: 3746.0000 - accuracy: 0.9113 - precision: 0.9252 - recall: 0.8999 - auc: 0.9944\n",
            "Epoch 88/400\n",
            "2340/2340 [==============================] - 166s 71ms/step - loss: 0.2873 - tp: 33510.0000 - fp: 2871.0000 - tn: 521107.0000 - fn: 3917.0000 - accuracy: 0.9072 - precision: 0.9211 - recall: 0.8953 - auc: 0.9941\n",
            "Epoch 89/400\n",
            "2340/2340 [==============================] - 166s 71ms/step - loss: 0.2911 - tp: 33437.0000 - fp: 2929.0000 - tn: 521049.0000 - fn: 3990.0000 - accuracy: 0.9057 - precision: 0.9195 - recall: 0.8934 - auc: 0.9939\n"
          ]
        }
      ],
      "source": [
        "history = m.fit(images, labels, epochs=400, batch_size= 16, \n",
        "                callbacks =[earlyStopping])"
      ]
    },
    {
      "cell_type": "code",
      "execution_count": 65,
      "metadata": {
        "id": "m9y4gqMsX4ZQ",
        "colab": {
          "base_uri": "https://localhost:8080/",
          "height": 351
        },
        "outputId": "b98b6cb7-f1fc-4c0d-badd-8cdefa9242a4"
      },
      "outputs": [
        {
          "output_type": "execute_result",
          "data": {
            "text/plain": [
              "<matplotlib.legend.Legend at 0x7fa34d46a690>"
            ]
          },
          "metadata": {},
          "execution_count": 65
        },
        {
          "output_type": "display_data",
          "data": {
            "text/plain": [
              "<Figure size 1080x360 with 1 Axes>"
            ],
            "image/png": "[encoded data removed]"
          },
          "metadata": {}
        }
      ],
      "source": [
        "import matplotlib as mpl\n",
        "mpl.style.use('seaborn')\n",
        "plt.figure(figsize = (15, 5))\n",
        "plt.plot(history.history['accuracy'], \"darkgreen\", label= \"accuracy\")\n",
        "plt.plot(history.history['recall'], \"darkred\", label= \"recall\")\n",
        "plt.plot(history.history['precision'], \"darkblue\", label= \"precision\")\n",
        "plt.plot(history.history['auc'], \"darkorange\", label= \"auc\")\n",
        "plt.xlabel('Epoch')\n",
        "plt.legend()"
      ]
    },
    {
      "cell_type": "code",
      "execution_count": 66,
      "metadata": {
        "colab": {
          "base_uri": "https://localhost:8080/",
          "height": 337
        },
        "id": "gpWjamRFoEQV",
        "outputId": "d3dc8c19-4b31-4b7a-cd61-a947c967f216"
      },
      "outputs": [
        {
          "output_type": "display_data",
          "data": {
            "text/plain": [
              "<Figure size 1080x360 with 1 Axes>"
            ],
            "image/png": "[encoded data removed]"
          },
          "metadata": {}
        }
      ],
      "source": [
        "mpl.style.use('seaborn')\n",
        "plt.figure(figsize = (15, 5))\n",
        "plt.plot(history.history['loss'], \"darkgreen\", label= \"accuracy\")\n",
        "plt.xlabel('Epoch')\n",
        "plt.show()"
      ]
    },
    {
      "cell_type": "code",
      "execution_count": 69,
      "metadata": {
        "colab": {
          "base_uri": "https://localhost:8080/"
        },
        "id": "wAhhy2nftwYT",
        "outputId": "6d6705be-3f4c-4e34-ca9d-213feb901f7e"
      },
      "outputs": [
        {
          "output_type": "stream",
          "name": "stdout",
          "text": [
            "2340/2340 [==============================] - 50s 21ms/step - loss: 0.0258 - tp: 37203.0000 - fp: 130.0000 - tn: 523848.0000 - fn: 224.0000 - accuracy: 0.9955 - precision: 0.9965 - recall: 0.9940 - auc: 0.9999\n"
          ]
        },
        {
          "output_type": "execute_result",
          "data": {
            "text/plain": [
              "[0.025828829035162926,\n",
              " 37203.0,\n",
              " 130.0,\n",
              " 523848.0,\n",
              " 224.0,\n",
              " 0.9954845309257507,\n",
              " 0.9965178370475769,\n",
              " 0.9940150380134583,\n",
              " 0.9998602271080017]"
            ]
          },
          "metadata": {},
          "execution_count": 69
        }
      ],
      "source": [
        "m.evaluate(images, labels, batch_size=16)"
      ]
    },
    {
      "cell_type": "code",
      "execution_count": 67,
      "metadata": {
        "colab": {
          "base_uri": "https://localhost:8080/"
        },
        "id": "wUnXhO5soTHP",
        "outputId": "489576b5-4841-40eb-b5b0-9f64c59414b6"
      },
      "outputs": [
        {
          "output_type": "stream",
          "name": "stdout",
          "text": [
            "2340/2340 [==============================] - 44s 19ms/step\n"
          ]
        }
      ],
      "source": [
        "y_pred = m.predict(images, batch_size=16, verbose= 1)\n",
        "y_pred = np.argmax(y_pred, axis = 1)"
      ]
    },
    {
      "cell_type": "code",
      "execution_count": 70,
      "metadata": {
        "colab": {
          "base_uri": "https://localhost:8080/"
        },
        "id": "BZH-VLmvoZ_D",
        "outputId": "83885510-4907-4f91-e665-d53240746aea"
      },
      "outputs": [
        {
          "output_type": "execute_result",
          "data": {
            "text/plain": [
              "array([ 0,  0,  0, ..., 14, 14, 14])"
            ]
          },
          "metadata": {},
          "execution_count": 70
        }
      ],
      "source": [
        "y_test = np.argmax(labels, axis = 1)\n",
        "y_test"
      ]
    },
    {
      "cell_type": "code",
      "execution_count": 76,
      "metadata": {
        "colab": {
          "base_uri": "https://localhost:8080/"
        },
        "id": "cz0hfBr9odVP",
        "outputId": "059e9d08-7c99-41f8-d66b-266467e10405"
      },
      "outputs": [
        {
          "output_type": "execute_result",
          "data": {
            "text/plain": [
              "0.995484543244182"
            ]
          },
          "metadata": {},
          "execution_count": 76
        }
      ],
      "source": [
        "from sklearn.metrics import accuracy_score, classification_report\n",
        "accuracy_score(y_test, y_pred)"
      ]
    },
    {
      "cell_type": "code",
      "source": [
        "print(classification_report(y_test, y_pred))"
      ],
      "metadata": {
        "colab": {
          "base_uri": "https://localhost:8080/"
        },
        "id": "ekRjv4Ud4nvR",
        "outputId": "090660a4-a8de-441b-d5b5-83fdb09f52de"
      },
      "execution_count": 77,
      "outputs": [
        {
          "output_type": "stream",
          "name": "stdout",
          "text": [
            "              precision    recall  f1-score   support\n",
            "\n",
            "           0       0.99      0.99      0.99      2515\n",
            "           1       0.99      1.00      1.00      2505\n",
            "           2       1.00      1.00      1.00      2516\n",
            "           3       0.99      1.00      0.99      2527\n",
            "           4       0.99      1.00      0.99      2506\n",
            "           5       1.00      1.00      1.00      2532\n",
            "           6       1.00      0.99      0.99      2477\n",
            "           7       1.00      1.00      1.00      2464\n",
            "           8       1.00      1.00      1.00      2492\n",
            "           9       1.00      0.99      1.00      2463\n",
            "          10       1.00      0.99      0.99      2489\n",
            "          11       0.99      1.00      1.00      2435\n",
            "          12       1.00      1.00      1.00      2536\n",
            "          13       1.00      0.99      0.99      2498\n",
            "          14       1.00      1.00      1.00      2472\n",
            "\n",
            "    accuracy                           1.00     37427\n",
            "   macro avg       1.00      1.00      1.00     37427\n",
            "weighted avg       1.00      1.00      1.00     37427\n",
            "\n"
          ]
        }
      ]
    },
    {
      "cell_type": "code",
      "execution_count": 72,
      "metadata": {
        "colab": {
          "base_uri": "https://localhost:8080/",
          "height": 520
        },
        "id": "BTRqMImgohkd",
        "outputId": "699d7711-11c1-4c50-fe53-c063bd4dd40a"
      },
      "outputs": [
        {
          "output_type": "execute_result",
          "data": {
            "text/plain": [
              "      0     1     2     3     4     5     6     7     8     9     10    11  \\\n",
              "0   2491     0     0     3     3     0     1     0     0     4     7     0   \n",
              "1      0  2496     0     2     1     1     4     1     0     1     3     0   \n",
              "2      0     0  2516     0     0     0     0     0     0     0     0     0   \n",
              "3      9     0     0  2516     0     0     1     1     0     1     8     0   \n",
              "4      2     3     0     2  2500     0    16     2     1     2     2     2   \n",
              "5      4     0     0     0     0  2527     0     2     2     1     1     0   \n",
              "6      0     1     0     0     1     0  2454     0     2     0     0     0   \n",
              "7      0     0     0     1     0     0     1  2455     0     1     0     1   \n",
              "8      1     0     0     0     0     0     0     1  2480     0     2     0   \n",
              "9      4     0     0     0     0     0     0     0     0  2447     0     0   \n",
              "10     1     1     0     0     0     1     0     0     1     2  2461     0   \n",
              "11     2     0     0     2     1     2     0     0     3     1     2  2432   \n",
              "12     1     1     0     0     0     0     0     0     2     0     0     0   \n",
              "13     0     1     0     0     0     1     0     2     0     3     1     0   \n",
              "14     0     2     0     1     0     0     0     0     1     0     2     0   \n",
              "\n",
              "      12    13    14  \n",
              "0      0     2     0  \n",
              "1      0     0     0  \n",
              "2      0     0     0  \n",
              "3      0     4     0  \n",
              "4      0     5     1  \n",
              "5      0     0     1  \n",
              "6      0     1     0  \n",
              "7      0     1     0  \n",
              "8      0     0     0  \n",
              "9      0     0     0  \n",
              "10     2     0     0  \n",
              "11     2     0     0  \n",
              "12  2531     0     0  \n",
              "13     1  2483     1  \n",
              "14     0     2  2469  "
            ],
            "text/html": [
              "\n",
              "  <div id=\"df-c09184a2-11a0-410a-a53e-d85b9e051569\">\n",
              "    <div class=\"colab-df-container\">\n",
              "      <div>\n",
              "<style scoped>\n",
              "    .dataframe tbody tr th:only-of-type {\n",
              "        vertical-align: middle;\n",
              "    }\n",
              "\n",
              "    .dataframe tbody tr th {\n",
              "        vertical-align: top;\n",
              "    }\n",
              "\n",
              "    .dataframe thead th {\n",
              "        text-align: right;\n",
              "    }\n",
              "</style>\n",
              "<table border=\"1\" class=\"dataframe\">\n",
              "  <thead>\n",
              "    <tr style=\"text-align: right;\">\n",
              "      <th></th>\n",
              "      <th>0</th>\n",
              "      <th>1</th>\n",
              "      <th>2</th>\n",
              "      <th>3</th>\n",
              "      <th>4</th>\n",
              "      <th>5</th>\n",
              "      <th>6</th>\n",
              "      <th>7</th>\n",
              "      <th>8</th>\n",
              "      <th>9</th>\n",
              "      <th>10</th>\n",
              "      <th>11</th>\n",
              "      <th>12</th>\n",
              "      <th>13</th>\n",
              "      <th>14</th>\n",
              "    </tr>\n",
              "  </thead>\n",
              "  <tbody>\n",
              "    <tr>\n",
              "      <th>0</th>\n",
              "      <td>2491</td>\n",
              "      <td>0</td>\n",
              "      <td>0</td>\n",
              "      <td>3</td>\n",
              "      <td>3</td>\n",
              "      <td>0</td>\n",
              "      <td>1</td>\n",
              "      <td>0</td>\n",
              "      <td>0</td>\n",
              "      <td>4</td>\n",
              "      <td>7</td>\n",
              "      <td>0</td>\n",
              "      <td>0</td>\n",
              "      <td>2</td>\n",
              "      <td>0</td>\n",
              "    </tr>\n",
              "    <tr>\n",
              "      <th>1</th>\n",
              "      <td>0</td>\n",
              "      <td>2496</td>\n",
              "      <td>0</td>\n",
              "      <td>2</td>\n",
              "      <td>1</td>\n",
              "      <td>1</td>\n",
              "      <td>4</td>\n",
              "      <td>1</td>\n",
              "      <td>0</td>\n",
              "      <td>1</td>\n",
              "      <td>3</td>\n",
              "      <td>0</td>\n",
              "      <td>0</td>\n",
              "      <td>0</td>\n",
              "      <td>0</td>\n",
              "    </tr>\n",
              "    <tr>\n",
              "      <th>2</th>\n",
              "      <td>0</td>\n",
              "      <td>0</td>\n",
              "      <td>2516</td>\n",
              "      <td>0</td>\n",
              "      <td>0</td>\n",
              "      <td>0</td>\n",
              "      <td>0</td>\n",
              "      <td>0</td>\n",
              "      <td>0</td>\n",
              "      <td>0</td>\n",
              "      <td>0</td>\n",
              "      <td>0</td>\n",
              "      <td>0</td>\n",
              "      <td>0</td>\n",
              "      <td>0</td>\n",
              "    </tr>\n",
              "    <tr>\n",
              "      <th>3</th>\n",
              "      <td>9</td>\n",
              "      <td>0</td>\n",
              "      <td>0</td>\n",
              "      <td>2516</td>\n",
              "      <td>0</td>\n",
              "      <td>0</td>\n",
              "      <td>1</td>\n",
              "      <td>1</td>\n",
              "      <td>0</td>\n",
              "      <td>1</td>\n",
              "      <td>8</td>\n",
              "      <td>0</td>\n",
              "      <td>0</td>\n",
              "      <td>4</td>\n",
              "      <td>0</td>\n",
              "    </tr>\n",
              "    <tr>\n",
              "      <th>4</th>\n",
              "      <td>2</td>\n",
              "      <td>3</td>\n",
              "      <td>0</td>\n",
              "      <td>2</td>\n",
              "      <td>2500</td>\n",
              "      <td>0</td>\n",
              "      <td>16</td>\n",
              "      <td>2</td>\n",
              "      <td>1</td>\n",
              "      <td>2</td>\n",
              "      <td>2</td>\n",
              "      <td>2</td>\n",
              "      <td>0</td>\n",
              "      <td>5</td>\n",
              "      <td>1</td>\n",
              "    </tr>\n",
              "    <tr>\n",
              "      <th>5</th>\n",
              "      <td>4</td>\n",
              "      <td>0</td>\n",
              "      <td>0</td>\n",
              "      <td>0</td>\n",
              "      <td>0</td>\n",
              "      <td>2527</td>\n",
              "      <td>0</td>\n",
              "      <td>2</td>\n",
              "      <td>2</td>\n",
              "      <td>1</td>\n",
              "      <td>1</td>\n",
              "      <td>0</td>\n",
              "      <td>0</td>\n",
              "      <td>0</td>\n",
              "      <td>1</td>\n",
              "    </tr>\n",
              "    <tr>\n",
              "      <th>6</th>\n",
              "      <td>0</td>\n",
              "      <td>1</td>\n",
              "      <td>0</td>\n",
              "      <td>0</td>\n",
              "      <td>1</td>\n",
              "      <td>0</td>\n",
              "      <td>2454</td>\n",
              "      <td>0</td>\n",
              "      <td>2</td>\n",
              "      <td>0</td>\n",
              "      <td>0</td>\n",
              "      <td>0</td>\n",
              "      <td>0</td>\n",
              "      <td>1</td>\n",
              "      <td>0</td>\n",
              "    </tr>\n",
              "    <tr>\n",
              "      <th>7</th>\n",
              "      <td>0</td>\n",
              "      <td>0</td>\n",
              "      <td>0</td>\n",
              "      <td>1</td>\n",
              "      <td>0</td>\n",
              "      <td>0</td>\n",
              "      <td>1</td>\n",
              "      <td>2455</td>\n",
              "      <td>0</td>\n",
              "      <td>1</td>\n",
              "      <td>0</td>\n",
              "      <td>1</td>\n",
              "      <td>0</td>\n",
              "      <td>1</td>\n",
              "      <td>0</td>\n",
              "    </tr>\n",
              "    <tr>\n",
              "      <th>8</th>\n",
              "      <td>1</td>\n",
              "      <td>0</td>\n",
              "      <td>0</td>\n",
              "      <td>0</td>\n",
              "      <td>0</td>\n",
              "      <td>0</td>\n",
              "      <td>0</td>\n",
              "      <td>1</td>\n",
              "      <td>2480</td>\n",
              "      <td>0</td>\n",
              "      <td>2</td>\n",
              "      <td>0</td>\n",
              "      <td>0</td>\n",
              "      <td>0</td>\n",
              "      <td>0</td>\n",
              "    </tr>\n",
              "    <tr>\n",
              "      <th>9</th>\n",
              "      <td>4</td>\n",
              "      <td>0</td>\n",
              "      <td>0</td>\n",
              "      <td>0</td>\n",
              "      <td>0</td>\n",
              "      <td>0</td>\n",
              "      <td>0</td>\n",
              "      <td>0</td>\n",
              "      <td>0</td>\n",
              "      <td>2447</td>\n",
              "      <td>0</td>\n",
              "      <td>0</td>\n",
              "      <td>0</td>\n",
              "      <td>0</td>\n",
              "      <td>0</td>\n",
              "    </tr>\n",
              "    <tr>\n",
              "      <th>10</th>\n",
              "      <td>1</td>\n",
              "      <td>1</td>\n",
              "      <td>0</td>\n",
              "      <td>0</td>\n",
              "      <td>0</td>\n",
              "      <td>1</td>\n",
              "      <td>0</td>\n",
              "      <td>0</td>\n",
              "      <td>1</td>\n",
              "      <td>2</td>\n",
              "      <td>2461</td>\n",
              "      <td>0</td>\n",
              "      <td>2</td>\n",
              "      <td>0</td>\n",
              "      <td>0</td>\n",
              "    </tr>\n",
              "    <tr>\n",
              "      <th>11</th>\n",
              "      <td>2</td>\n",
              "      <td>0</td>\n",
              "      <td>0</td>\n",
              "      <td>2</td>\n",
              "      <td>1</td>\n",
              "      <td>2</td>\n",
              "      <td>0</td>\n",
              "      <td>0</td>\n",
              "      <td>3</td>\n",
              "      <td>1</td>\n",
              "      <td>2</td>\n",
              "      <td>2432</td>\n",
              "      <td>2</td>\n",
              "      <td>0</td>\n",
              "      <td>0</td>\n",
              "    </tr>\n",
              "    <tr>\n",
              "      <th>12</th>\n",
              "      <td>1</td>\n",
              "      <td>1</td>\n",
              "      <td>0</td>\n",
              "      <td>0</td>\n",
              "      <td>0</td>\n",
              "      <td>0</td>\n",
              "      <td>0</td>\n",
              "      <td>0</td>\n",
              "      <td>2</td>\n",
              "      <td>0</td>\n",
              "      <td>0</td>\n",
              "      <td>0</td>\n",
              "      <td>2531</td>\n",
              "      <td>0</td>\n",
              "      <td>0</td>\n",
              "    </tr>\n",
              "    <tr>\n",
              "      <th>13</th>\n",
              "      <td>0</td>\n",
              "      <td>1</td>\n",
              "      <td>0</td>\n",
              "      <td>0</td>\n",
              "      <td>0</td>\n",
              "      <td>1</td>\n",
              "      <td>0</td>\n",
              "      <td>2</td>\n",
              "      <td>0</td>\n",
              "      <td>3</td>\n",
              "      <td>1</td>\n",
              "      <td>0</td>\n",
              "      <td>1</td>\n",
              "      <td>2483</td>\n",
              "      <td>1</td>\n",
              "    </tr>\n",
              "    <tr>\n",
              "      <th>14</th>\n",
              "      <td>0</td>\n",
              "      <td>2</td>\n",
              "      <td>0</td>\n",
              "      <td>1</td>\n",
              "      <td>0</td>\n",
              "      <td>0</td>\n",
              "      <td>0</td>\n",
              "      <td>0</td>\n",
              "      <td>1</td>\n",
              "      <td>0</td>\n",
              "      <td>2</td>\n",
              "      <td>0</td>\n",
              "      <td>0</td>\n",
              "      <td>2</td>\n",
              "      <td>2469</td>\n",
              "    </tr>\n",
              "  </tbody>\n",
              "</table>\n",
              "</div>\n",
              "      <button class=\"colab-df-convert\" onclick=\"convertToInteractive('df-c09184a2-11a0-410a-a53e-d85b9e051569')\"\n",
              "              title=\"Convert this dataframe to an interactive table.\"\n",
              "              style=\"display:none;\">\n",
              "        \n",
              "  <svg xmlns=\"http://www.w3.org/2000/svg\" height=\"24px\"viewBox=\"0 0 24 24\"\n",
              "       width=\"24px\">\n",
              "    <path d=\"M0 0h24v24H0V0z\" fill=\"none\"/>\n",
              "    <path d=\"M18.56 5.44l.94 2.06.94-2.06 2.06-.94-2.06-.94-.94-2.06-.94 2.06-2.06.94zm-11 1L8.5 8.5l.94-2.06 2.06-.94-2.06-.94L8.5 2.5l-.94 2.06-2.06.94zm10 10l.94 2.06.94-2.06 2.06-.94-2.06-.94-.94-2.06-.94 2.06-2.06.94z\"/><path d=\"M17.41 7.96l-1.37-1.37c-.4-.4-.92-.59-1.43-.59-.52 0-1.04.2-1.43.59L10.3 9.45l-7.72 7.72c-.78.78-.78 2.05 0 2.83L4 21.41c.39.39.9.59 1.41.59.51 0 1.02-.2 1.41-.59l7.78-7.78 2.81-2.81c.8-.78.8-2.07 0-2.86zM5.41 20L4 18.59l7.72-7.72 1.47 1.35L5.41 20z\"/>\n",
              "  </svg>\n",
              "      </button>\n",
              "      \n",
              "  <style>\n",
              "    .colab-df-container {\n",
              "      display:flex;\n",
              "      flex-wrap:wrap;\n",
              "      gap: 12px;\n",
              "    }\n",
              "\n",
              "    .colab-df-convert {\n",
              "      background-color: #E8F0FE;\n",
              "      border: none;\n",
              "      border-radius: 50%;\n",
              "      cursor: pointer;\n",
              "      display: none;\n",
              "      fill: #1967D2;\n",
              "      height: 32px;\n",
              "      padding: 0 0 0 0;\n",
              "      width: 32px;\n",
              "    }\n",
              "\n",
              "    .colab-df-convert:hover {\n",
              "      background-color: #E2EBFA;\n",
              "      box-shadow: 0px 1px 2px rgba(60, 64, 67, 0.3), 0px 1px 3px 1px rgba(60, 64, 67, 0.15);\n",
              "      fill: #174EA6;\n",
              "    }\n",
              "\n",
              "    [theme=dark] .colab-df-convert {\n",
              "      background-color: #3B4455;\n",
              "      fill: #D2E3FC;\n",
              "    }\n",
              "\n",
              "    [theme=dark] .colab-df-convert:hover {\n",
              "      background-color: #434B5C;\n",
              "      box-shadow: 0px 1px 3px 1px rgba(0, 0, 0, 0.15);\n",
              "      filter: drop-shadow(0px 1px 2px rgba(0, 0, 0, 0.3));\n",
              "      fill: #FFFFFF;\n",
              "    }\n",
              "  </style>\n",
              "\n",
              "      <script>\n",
              "        const buttonEl =\n",
              "          document.querySelector('#df-c09184a2-11a0-410a-a53e-d85b9e051569 button.colab-df-convert');\n",
              "        buttonEl.style.display =\n",
              "          google.colab.kernel.accessAllowed ? 'block' : 'none';\n",
              "\n",
              "        async function convertToInteractive(key) {\n",
              "          const element = document.querySelector('#df-c09184a2-11a0-410a-a53e-d85b9e051569');\n",
              "          const dataTable =\n",
              "            await google.colab.kernel.invokeFunction('convertToInteractive',\n",
              "                                                     [key], {});\n",
              "          if (!dataTable) return;\n",
              "\n",
              "          const docLinkHtml = 'Like what you see? Visit the ' +\n",
              "            '<a target=\"_blank\" href=https://colab.research.google.com/notebooks/data_table.ipynb>data table notebook</a>'\n",
              "            + ' to learn more about interactive tables.';\n",
              "          element.innerHTML = '';\n",
              "          dataTable['output_type'] = 'display_data';\n",
              "          await google.colab.output.renderOutput(dataTable, element);\n",
              "          const docLink = document.createElement('div');\n",
              "          docLink.innerHTML = docLinkHtml;\n",
              "          element.appendChild(docLink);\n",
              "        }\n",
              "      </script>\n",
              "    </div>\n",
              "  </div>\n",
              "  "
            ]
          },
          "metadata": {},
          "execution_count": 72
        }
      ],
      "source": [
        "classes = list(range(15))\n",
        "res = tf.math.confusion_matrix(y_pred,y_test).numpy()\n",
        "cm = pd.DataFrame(res,\n",
        "                     index = classes, \n",
        "                     columns = classes)\n",
        "cm"
      ]
    },
    {
      "cell_type": "code",
      "execution_count": 74,
      "metadata": {
        "colab": {
          "base_uri": "https://localhost:8080/",
          "height": 606
        },
        "id": "gD6UjyFXo4vj",
        "outputId": "bdbf4217-1886-4622-e271-faad27470e20"
      },
      "outputs": [
        {
          "output_type": "display_data",
          "data": {
            "text/plain": [
              "<Figure size 1080x720 with 2 Axes>"
            ],
            "image/png": "[encoded data removed]"
          },
          "metadata": {}
        }
      ],
      "source": [
        "import seaborn as sns\n",
        "figure = plt.figure(figsize=(15, 10))\n",
        "sns.heatmap(cm, annot=True, cmap=plt.cm.Blues)\n",
        "plt.ylabel('True label')\n",
        "plt.xlabel('Predicted label')\n",
        "plt.show()"
      ]
    }
  ],
  "metadata": {
    "accelerator": "GPU",
    "colab": {
      "collapsed_sections": [],
      "machine_shape": "hm",
      "name": "Documents Classification Using CNN.ipynb",
      "provenance": []
    },
    "gpuClass": "standard",
    "kernelspec": {
      "display_name": "Python 3",
      "name": "python3"
    },
    "language_info": {
      "name": "python"
    }
  },
  "nbformat": 4,
  "nbformat_minor": 0
}